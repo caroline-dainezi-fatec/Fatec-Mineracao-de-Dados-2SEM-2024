{
  "nbformat": 4,
  "nbformat_minor": 0,
  "metadata": {
    "colab": {
      "provenance": [],
      "include_colab_link": true
    },
    "kernelspec": {
      "name": "python3",
      "display_name": "Python 3"
    },
    "language_info": {
      "name": "python"
    }
  },
  "cells": [
    {
      "cell_type": "markdown",
      "metadata": {
        "id": "view-in-github",
        "colab_type": "text"
      },
      "source": [
        "<a href=\"https://colab.research.google.com/github/caroline-dainezi-fatec/Fatec-Mineracao-de-Dados-2SEM-2024/blob/main/02_Visualizar_dados_Matplotlib.ipynb\" target=\"_parent\"><img src=\"https://colab.research.google.com/assets/colab-badge.svg\" alt=\"Open In Colab\"/></a>"
      ]
    },
    {
      "cell_type": "markdown",
      "source": [
        "# **Explorando dados com Python – visualize dados**"
      ],
      "metadata": {
        "id": "xaZyIE8g6ZVe"
      }
    },
    {
      "cell_type": "markdown",
      "source": [
        "Neste caderno, aplicaremos algumas técnicas para analisar dados com estatísticas básicas e visualizá-los por meio de gráficos."
      ],
      "metadata": {
        "id": "IDSLYsae6fJt"
      }
    },
    {
      "cell_type": "markdown",
      "source": [
        "# Carregando nossos dados"
      ],
      "metadata": {
        "id": "9Mglh3Vg6kJ2"
      }
    },
    {
      "cell_type": "markdown",
      "source": [
        "Antes de começarmos, vamos carregar os mesmos dados sobre horas de estudo que analisamos no caderno anterior. Também recalcularemos quem passou na aula da mesma forma que da última vez.\n",
        "\n",
        "Execute o código na célula abaixo clicando no botão ► Executar para ver os dados."
      ],
      "metadata": {
        "id": "tAcDulvb6oYI"
      }
    },
    {
      "cell_type": "code",
      "source": [
        "import pandas as pd\n",
        "\n",
        "# Carregar dados de um link\n",
        "!wget https://raw.githubusercontent.com/ProfAndersonVanin/FATEC_MINERACAO_DADOS_2SEM2024/main/grades.csv\n",
        "df_alunos = pd.read_csv('grades.csv',delimiter=',',header='infer')"
      ],
      "metadata": {
        "id": "nPS7j7-J6sIQ"
      },
      "execution_count": null,
      "outputs": []
    },
    {
      "cell_type": "code",
      "source": [
        "df_alunos"
      ],
      "metadata": {
        "id": "BZoUobmVZfa0"
      },
      "execution_count": null,
      "outputs": []
    },
    {
      "cell_type": "code",
      "source": [
        "# Remova todas as linhas com dados ausentes\n",
        "df_alunos = df_alunos.dropna(axis=0, how='any')"
      ],
      "metadata": {
        "id": "0e7u4MYGZQzZ"
      },
      "execution_count": null,
      "outputs": []
    },
    {
      "cell_type": "code",
      "source": [
        "df_alunos"
      ],
      "metadata": {
        "id": "50A0H2ktZjNj"
      },
      "execution_count": null,
      "outputs": []
    },
    {
      "cell_type": "code",
      "source": [
        "# Calcule quem passou, assumindo que '60' é a nota necessária para passar\n",
        "passes  = pd.Series(df_alunos['Grade'] >= 60)"
      ],
      "metadata": {
        "id": "axZEHY9YZVLI"
      },
      "execution_count": null,
      "outputs": []
    },
    {
      "cell_type": "code",
      "source": [
        "passes"
      ],
      "metadata": {
        "id": "d-AYVW_7Znkb"
      },
      "execution_count": null,
      "outputs": []
    },
    {
      "cell_type": "code",
      "source": [
        "# Salve quem passou para o dataframe do Pandas\n",
        "df_alunos = pd.concat([df_alunos, passes.rename(\"Passou\")], axis=1)"
      ],
      "metadata": {
        "id": "WK9SQQBFZW7w"
      },
      "execution_count": null,
      "outputs": []
    },
    {
      "cell_type": "code",
      "source": [
        "# Imprima o resultado neste caderno\n",
        "df_alunos"
      ],
      "metadata": {
        "id": "MHaonhpLZaaX"
      },
      "execution_count": null,
      "outputs": []
    },
    {
      "cell_type": "markdown",
      "source": [
        "## Visualizando dados com Matplotlib"
      ],
      "metadata": {
        "id": "hGyQ-eFe62EB"
      }
    },
    {
      "cell_type": "markdown",
      "source": [
        "DataFrames fornecem uma ótima maneira de explorar e analisar dados tabulares, mas às vezes uma imagem vale mais que mil linhas e colunas. A biblioteca **Matplotlib** fornece a base para traçar visualizações de dados que podem melhorar muito sua capacidade de analisar os dados.\n",
        "\n",
        "Vamos começar com um gráfico de barras simples que mostra a nota de cada aluno.\n",
        "\n",
        "**Observação**: Este primeiro gráfico pode levar de um a dois minutos para ser renderizado. Os gráficos subsequentes serão renderizados mais rapidamente."
      ],
      "metadata": {
        "id": "NxCPHcum66LH"
      }
    },
    {
      "cell_type": "code",
      "source": [
        "# Certifique-se de que os gráficos sejam exibidos em linha no notebook\n",
        "%matplotlib inline\n",
        "\n",
        "from matplotlib import pyplot as plt\n",
        "\n",
        "# Crie um gráfico de barras de nome x nota\n",
        "plt.bar(x=df_alunos.Name, height=df_alunos.Grade)\n",
        "\n",
        "# Exibir o gráfico\n",
        "plt.show()"
      ],
      "metadata": {
        "id": "z7kQO-Em7BFo"
      },
      "execution_count": null,
      "outputs": []
    },
    {
      "cell_type": "markdown",
      "source": [
        "Bem, funcionou, mas o gráfico precisa de algumas melhorias para deixar mais claro o que estamos vendo.\n",
        "\n",
        "Observe que você usou a classe pyplot do Matplotlib para traçar o gráfico. Esta classe oferece muitas maneiras de melhorar os elementos visuais do enredo. Por exemplo, o seguinte código:\n",
        "\n",
        "Especifica a cor do gráfico de barras.\n",
        "Adiciona um título ao gráfico (para sabermos o que ele representa)\n",
        "Adiciona rótulos aos eixos X e Y (para sabermos qual eixo mostra quais dados)\n",
        "Adiciona uma grade (para facilitar a determinação dos valores das barras)\n",
        "Gira os marcadores X (para que possamos lê-los)"
      ],
      "metadata": {
        "id": "KB3UxvBY7J3a"
      }
    },
    {
      "cell_type": "code",
      "source": [
        "# Crie um gráfico de barras de nome x nota\n",
        "plt.bar(x=df_alunos.Name, height=df_alunos.Grade, color='orange')\n",
        "\n",
        "# Personalize o gráfico\n",
        "plt.title('Notas dos Estudantes')\n",
        "plt.xlabel('Estudante')\n",
        "plt.ylabel('Nota')\n",
        "plt.grid(color='#95a5a6', linestyle='--', linewidth=2, axis='y', alpha=0.7)\n",
        "plt.xticks(rotation=90)\n",
        "\n",
        "# Display the plot\n",
        "plt.show()"
      ],
      "metadata": {
        "id": "a8eJTZIo7MbC"
      },
      "execution_count": null,
      "outputs": []
    },
    {
      "cell_type": "markdown",
      "source": [
        "Um gráfico está tecnicamente contido em uma figura. Nos exemplos anteriores, a figura foi criada implicitamente para você, mas você pode criá-la explicitamente. Por exemplo, o código a seguir cria uma figura com um tamanho específico."
      ],
      "metadata": {
        "id": "Wr_Al46z7R25"
      }
    },
    {
      "cell_type": "code",
      "source": [
        "# Create a Figure\n",
        "fig = plt.figure(figsize=(8,3))\n",
        "\n",
        "# Create a bar plot of name vs grade\n",
        "plt.bar(x=df_alunos.Name, height=df_alunos.Grade, color='orange')\n",
        "\n",
        "# Customize the chart\n",
        "plt.title('Notas dos Estudantes')\n",
        "plt.xlabel('Estudante')\n",
        "plt.ylabel('Nota')\n",
        "plt.grid(color='#95a5a6', linestyle='--', linewidth=2, axis='y', alpha=0.7)\n",
        "plt.xticks(rotation=90)\n",
        "\n",
        "# Show the figure\n",
        "plt.show()"
      ],
      "metadata": {
        "id": "SeiUyQqx7UOZ"
      },
      "execution_count": null,
      "outputs": []
    },
    {
      "cell_type": "markdown",
      "source": [
        "Uma figura pode conter múltiplas subparcelas, cada uma em seu próprio eixo.\n",
        "\n",
        "Por exemplo, o código a seguir cria uma figura com dois subtramas: um é um gráfico de barras que mostra as notas dos alunos e o outro é um gráfico de pizza comparando o número de notas aprovadas com as notas não aprovadas."
      ],
      "metadata": {
        "id": "7mPTX5mc7aoJ"
      }
    },
    {
      "cell_type": "code",
      "source": [
        "# Create a figure for 2 subplots (1 row, 2 columns)\n",
        "fig, ax = plt.subplots(1, 2, figsize = (10,4))\n",
        "\n",
        "# Create a bar plot of name vs grade on the first axis\n",
        "ax[0].bar(x=df_alunos.Name, height=df_alunos.Grade, color='orange')\n",
        "ax[0].set_title('Notas')\n",
        "ax[0].set_xticklabels(df_alunos.Name, rotation=90)\n",
        "\n",
        "# Create a pie chart of pass counts on the second axis\n",
        "pass_counts = df_alunos['Passou'].value_counts()\n",
        "ax[1].pie(pass_counts, labels=pass_counts)\n",
        "ax[1].set_title('Passing Grades')\n",
        "ax[1].legend(pass_counts.keys().tolist())\n",
        "\n",
        "# Add a title to the Figure\n",
        "fig.suptitle('Student Data')\n",
        "\n",
        "# Show the figure\n",
        "fig.show()"
      ],
      "metadata": {
        "id": "oGc9LUnw7dG6"
      },
      "execution_count": null,
      "outputs": []
    },
    {
      "cell_type": "markdown",
      "source": [
        "Até agora, você usou métodos do objeto `Matplotlib.pyplot` para plotar gráficos. No entanto, o Matplotlib é tão fundamental para os gráficos em Python que muitos pacotes, incluindo o Pandas, fornecem métodos que abstraem as funções subjacentes do Matplotlib e simplificam a plotagem. Por exemplo, o DataFrame fornece seus próprios métodos para plotar dados, conforme mostrado no exemplo a seguir, que plota um gráfico de barras de horas de estudo."
      ],
      "metadata": {
        "id": "oXiKpy4Z7ljS"
      }
    },
    {
      "cell_type": "code",
      "source": [
        "df_alunos.plot.bar(x='Name', y='StudyHours', color='teal', figsize=(6,4))"
      ],
      "metadata": {
        "id": "mQi-m6aZ7o1j"
      },
      "execution_count": null,
      "outputs": []
    },
    {
      "cell_type": "markdown",
      "source": [
        "## Introdução à análise estatística\n",
        "\n",
        "Agora que você sabe como usar Python para manipular e visualizar dados, pode começar a analisá-los.\n",
        "\n",
        "Grande parte da ciência de dados está enraizada em *estatísticas*, por isso exploraremos algumas técnicas estatísticas básicas.\n",
        "\n",
        "> **Observação**: Esta seção <u>não</u> se destina a ensinar estatística; esse é um tópico muito grande para este caderno. No entanto, apresentará alguns conceitos e técnicas estatísticas que os cientistas de dados usam à medida que exploram dados na preparação para a modelagem de aprendizado de máquina.\n",
        "\n",
        "### Estatísticas descritivas e distribuição de dados\n",
        "\n",
        "Ao examinar uma *variável* (por exemplo, uma amostra de notas de alunos), os cientistas de dados estão particularmente interessados ​​em sua *distribuição* (em outras palavras, como todos os diferentes valores de notas estão espalhados pela amostra). O ponto de partida para esta exploração é muitas vezes visualizar os dados como um histograma e ver com que frequência ocorre cada valor da variável."
      ],
      "metadata": {
        "id": "SNvis34r7t5h"
      }
    },
    {
      "cell_type": "code",
      "source": [
        "# Get the variable to examine\n",
        "var_data = df_alunos['Grade']\n",
        "\n",
        "# Create a Figure\n",
        "fig = plt.figure(figsize=(10,4))\n",
        "\n",
        "# Plot a histogram\n",
        "plt.hist(var_data)\n",
        "\n",
        "# Add titles and labels\n",
        "plt.title('Data Distribution')\n",
        "plt.xlabel('Value')\n",
        "plt.ylabel('Frequency')\n",
        "\n",
        "# Show the figure\n",
        "fig.show()"
      ],
      "metadata": {
        "id": "FvPjqCnX70xL"
      },
      "execution_count": null,
      "outputs": []
    },
    {
      "cell_type": "markdown",
      "source": [
        "O histograma das notas tem uma forma simétrica, onde as notas que ocorrem com mais frequência tendem a estar no meio da faixa (cerca de 50), com menos notas nos extremos da escala.\n",
        "\n",
        "#### Medidas de tendência central\n",
        "\n",
        "Para compreender melhor a distribuição, podemos examinar as chamadas *medidas de tendência central*, que são uma forma sofisticada de descrever estatísticas que representam o “meio” dos dados. O objetivo desta análise é tentar encontrar um valor “típico”. As formas comuns de definir o meio dos dados incluem:\n",
        "\n",
        "- A *média*: uma média simples baseada na soma de todos os valores do conjunto de amostras e depois na divisão do total pelo número de amostras.\n",
        "- A *mediana*: O valor no meio do intervalo de todos os valores da amostra.\n",
        "- O *modo*: o valor que ocorre mais comumente no conjunto de amostras<sup>\\*</sup>.\n",
        "\n",
        "Vamos calcular esses valores, juntamente com os valores mínimo e máximo para comparação, e mostrá-los no histograma.\n",
        "\n",
        "> <sup>\\*</sup>É claro que, em alguns conjuntos de amostras, pode haver um empate para o valor mais comum. Nesses casos, o conjunto de dados é descrito como *bimodal* ou mesmo *multimodal*."
      ],
      "metadata": {
        "id": "hB6F9oeW79QU"
      }
    },
    {
      "cell_type": "code",
      "source": [
        "# Get the variable to examine\n",
        "var = df_alunos['Grade']\n",
        "\n",
        "# Get statistics\n",
        "min_val = var.min()\n",
        "max_val = var.max()\n",
        "mean_val = var.mean()\n",
        "med_val = var.median()\n",
        "mod_val = var.mode()[0]\n",
        "\n",
        "print('Minimum:{:.2f}\\nMean:{:.2f}\\nMedian:{:.2f}\\nMode:{:.2f}\\nMaximum:{:.2f}\\n'.format(min_val,\n",
        "                                                                                        mean_val,\n",
        "                                                                                        med_val,\n",
        "                                                                                        mod_val,\n",
        "                                                                                        max_val))\n",
        "\n",
        "# Create a Figure\n",
        "fig = plt.figure(figsize=(10,4))\n",
        "\n",
        "# Plot a histogram\n",
        "plt.hist(var)\n",
        "\n",
        "# Add lines for the statistics\n",
        "plt.axvline(x=min_val, color = 'gray', linestyle='dashed', linewidth = 2)\n",
        "plt.axvline(x=mean_val, color = 'cyan', linestyle='dashed', linewidth = 2)\n",
        "plt.axvline(x=med_val, color = 'red', linestyle='dashed', linewidth = 2)\n",
        "plt.axvline(x=mod_val, color = 'yellow', linestyle='dashed', linewidth = 2)\n",
        "plt.axvline(x=max_val, color = 'gray', linestyle='dashed', linewidth = 2)\n",
        "\n",
        "# Add titles and labels\n",
        "plt.title('Data Distribution')\n",
        "plt.xlabel('Value')\n",
        "plt.ylabel('Frequency')\n",
        "\n",
        "# Show the figure\n",
        "fig.show()"
      ],
      "metadata": {
        "id": "Sbv1PpgF8BLk"
      },
      "execution_count": null,
      "outputs": []
    },
    {
      "cell_type": "markdown",
      "source": [
        "Para os dados de notas, a média, a mediana e a moda parecem estar mais ou menos no meio do mínimo e do máximo, em torno de 50.\n",
        "\n",
        "Outra maneira de visualizar a distribuição de uma variável é usar um gráfico *caixa* (às vezes chamado de gráfico *caixa e bigodes*). Vamos criar um para os dados das notas."
      ],
      "metadata": {
        "id": "3xtg9xMI8HPM"
      }
    },
    {
      "cell_type": "code",
      "source": [
        "# Get the variable to examine\n",
        "var = df_alunos['Grade']\n",
        "\n",
        "# Create a Figure\n",
        "fig = plt.figure(figsize=(10,4))\n",
        "\n",
        "# Plot a histogram\n",
        "plt.boxplot(var)\n",
        "\n",
        "# Add titles and labels\n",
        "plt.title('Data Distribution')\n",
        "\n",
        "# Show the figure\n",
        "fig.show()"
      ],
      "metadata": {
        "id": "vEIEKNxZ8Jek"
      },
      "execution_count": null,
      "outputs": []
    },
    {
      "cell_type": "markdown",
      "source": [
        "O box plot mostra a distribuição dos valores das notas em um formato diferente do histograma. A parte *caixa* do gráfico mostra onde residem os dois *quartis* internos dos dados. Neste caso, metade das notas está entre aproximadamente 36 e 63. Os *bigodes* que se estendem da caixa mostram os dois quartis externos, portanto a outra metade das notas neste caso está entre 0 e 36 ou 63 e 100. a linha na caixa indica o valor *mediano*.\n",
        "\n",
        "Para o aprendizado, é útil combinar histogramas e box plots, com a orientação do box plot alterada para alinhá-lo com o histograma. (De certa forma, é útil pensar no histograma como uma visão de “elevação frontal” da distribuição e no gráfico de caixa como uma visão “plana” da distribuição vista de cima.)"
      ],
      "metadata": {
        "id": "Ww3hRZVf8PFL"
      }
    },
    {
      "cell_type": "code",
      "source": [
        "# Create a function that we can re-use\n",
        "def show_distribution(var_data):\n",
        "    from matplotlib import pyplot as plt\n",
        "\n",
        "    # Get statistics\n",
        "    min_val = var_data.min()\n",
        "    max_val = var_data.max()\n",
        "    mean_val = var_data.mean()\n",
        "    med_val = var_data.median()\n",
        "    mod_val = var_data.mode()[0]\n",
        "\n",
        "    print('Minimum:{:.2f}\\nMean:{:.2f}\\nMedian:{:.2f}\\nMode:{:.2f}\\nMaximum:{:.2f}\\n'.format(min_val,\n",
        "                                                                                            mean_val,\n",
        "                                                                                            med_val,\n",
        "                                                                                            mod_val,\n",
        "                                                                                            max_val))\n",
        "\n",
        "    # Create a figure for 2 subplots (2 rows, 1 column)\n",
        "    fig, ax = plt.subplots(2, 1, figsize = (10,4))\n",
        "\n",
        "    # Plot the histogram\n",
        "    ax[0].hist(var_data)\n",
        "    ax[0].set_ylabel('Frequency')\n",
        "\n",
        "    # Add lines for the mean, median, and mode\n",
        "    ax[0].axvline(x=min_val, color = 'gray', linestyle='dashed', linewidth = 2)\n",
        "    ax[0].axvline(x=mean_val, color = 'cyan', linestyle='dashed', linewidth = 2)\n",
        "    ax[0].axvline(x=med_val, color = 'red', linestyle='dashed', linewidth = 2)\n",
        "    ax[0].axvline(x=mod_val, color = 'yellow', linestyle='dashed', linewidth = 2)\n",
        "    ax[0].axvline(x=max_val, color = 'gray', linestyle='dashed', linewidth = 2)\n",
        "\n",
        "    # Plot the boxplot\n",
        "    ax[1].boxplot(var_data, vert=False)\n",
        "    ax[1].set_xlabel('Value')\n",
        "\n",
        "    # Add a title to the Figure\n",
        "    fig.suptitle('Data Distribution')\n",
        "\n",
        "    # Show the figure\n",
        "    fig.show()\n",
        "\n",
        "# Get the variable to examine\n",
        "col = df_alunos['Grade']\n",
        "# Call the function\n",
        "show_distribution(col)"
      ],
      "metadata": {
        "id": "VQc3Rq4o8SY1"
      },
      "execution_count": null,
      "outputs": []
    },
    {
      "cell_type": "markdown",
      "source": [
        "Todas as medidas de tendência central estão bem no meio da distribuição dos dados, que é simétrica, com os valores tornando-se progressivamente mais baixos em ambas as direções a partir do meio.\n",
        "\n",
        "Para explorar esta distribuição com mais detalhes, você precisa entender que a estatística consiste fundamentalmente em coletar *amostras* de dados e usar funções de probabilidade para extrapolar informações sobre a *população* completa de dados.\n",
        "\n",
        "O que isto significa? *Amostras* referem-se aos dados que temos em mãos, como informações sobre hábitos de estudo e notas desses 22 alunos. A *população* refere-se a todos os dados possíveis que poderíamos coletar, como as notas e hábitos de estudo de cada aluno em todas as instituições educacionais ao longo da história. Normalmente, estamos interessados ​​na população, mas simplesmente não é prático recolher todos esses dados. Em vez disso, precisamos tentar estimar como é a população a partir da pequena quantidade de dados (amostras) que temos.\n",
        "\n",
        "Se tivermos amostras suficientes, podemos calcular algo chamado *função de densidade de probabilidade*, que estima a distribuição de notas para toda a população.\n",
        "\n",
        "A classe **pyplot** do Matplotlib fornece uma função de plotagem útil para mostrar essa densidade."
      ],
      "metadata": {
        "id": "fAsb0Dhd8ZDO"
      }
    },
    {
      "cell_type": "code",
      "source": [
        "def show_density(var_data):\n",
        "    from matplotlib import pyplot as plt\n",
        "\n",
        "    fig = plt.figure(figsize=(10,4))\n",
        "\n",
        "    # Plot density\n",
        "    var_data.plot.density()\n",
        "\n",
        "    # Add titles and labels\n",
        "    plt.title('Data Density')\n",
        "\n",
        "    # Show the mean, median, and mode\n",
        "    plt.axvline(x=var_data.mean(), color = 'cyan', linestyle='dashed', linewidth = 2)\n",
        "    plt.axvline(x=var_data.median(), color = 'red', linestyle='dashed', linewidth = 2)\n",
        "    plt.axvline(x=var_data.mode()[0], color = 'yellow', linestyle='dashed', linewidth = 2)\n",
        "\n",
        "    # Show the figure\n",
        "    plt.show()\n",
        "\n",
        "# Get the density of Grade\n",
        "col = df_alunos['Grade']\n",
        "show_density(col)"
      ],
      "metadata": {
        "id": "lMY9XbBP8bs9"
      },
      "execution_count": null,
      "outputs": []
    },
    {
      "cell_type": "markdown",
      "source": [
        "Como esperado do histograma da amostra, a densidade mostra a característica \"curva em sino\" do que os estatísticos chamam de distribuição *normal* com a média e a moda no centro e caudas simétricas.\n",
        "\n",
        "## Resumo\n",
        "\n",
        "Bom trabalho! Houve uma série de novos conceitos aqui, então vamos resumir.\n",
        "\n",
        "Aqui nós:\n",
        "\n",
        "1. Gráficos feitos com Matplotlib.\n",
        "2. Aprendeu como personalizar esses gráficos.\n",
        "3. Estatísticas básicas calculadas, como medianas.\n",
        "4. Analisou a distribuição dos dados usando gráficos de caixa e histogramas.\n",
        "5. Aprendeu sobre amostras versus populações.\n",
        "6. Estimativa de como seria a população de séries a partir de uma amostra de séries.\n",
        "\n",
        "Em nosso próximo caderno, veremos como identificar dados incomuns e encontrar relações entre os dados.\n",
        "\n",
        "## Leitura Adicional\n",
        "\n",
        "Para saber mais sobre os pacotes Python que você explorou neste notebook, consulte a seguinte documentação:\n",
        "\n",
        "- [NumPy](https://numpy.org/doc/stable/)\n",
        "- [Pandas](https://pandas.pydata.org/pandas-docs/stable/)\n",
        "- [Matplotlib](https://matplotlib.org/contents.html)"
      ],
      "metadata": {
        "id": "OyIv2Ebt8j7d"
      }
    }
  ]
}