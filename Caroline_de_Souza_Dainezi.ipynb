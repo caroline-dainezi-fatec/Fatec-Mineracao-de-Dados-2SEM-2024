{
  "nbformat": 4,
  "nbformat_minor": 0,
  "metadata": {
    "colab": {
      "provenance": [],
      "include_colab_link": true
    },
    "kernelspec": {
      "name": "python3",
      "display_name": "Python 3"
    },
    "language_info": {
      "name": "python"
    }
  },
  "cells": [
    {
      "cell_type": "markdown",
      "metadata": {
        "id": "view-in-github",
        "colab_type": "text"
      },
      "source": [
        "<a href=\"https://colab.research.google.com/github/caroline-dainezi-fatec/Fatec-Mineracao-de-Dados-2SEM-2024/blob/main/Caroline_de_Souza_Dainezi.ipynb\" target=\"_parent\"><img src=\"https://colab.research.google.com/assets/colab-badge.svg\" alt=\"Open In Colab\"/></a>"
      ]
    },
    {
      "cell_type": "markdown",
      "source": [
        "# **ATIVIDADE P1**\n",
        "\n",
        "## Análise Exploratória de Dados\n",
        "\n",
        "Links deste exercício:\n",
        "- https://www.kaggle.com/datasets/zynicide/wine-reviews\n",
        "- https://seaborn.pydata.org/\n",
        "- https://www.wine-searcher.com/critics-17-wine+enthusiast\n",
        "\n",
        "Fomos contratados por uma grande empresa distribuidora de vinhos. Nosso cliente deseja melhorar as vendas entregando produtos que agradem os diversos perfis de clientes. O foco do nosso projeto aqui é desenvolver uma análise exploratória nos [dados de avaliações de vinhos](https://www.kaggle.com/datasets/zynicide/wine-reviews).\n",
        "\n",
        "Uma análise exploratória bem elaborada consiste em algumas etapas:\n",
        "\n",
        "- Compreensão do negócio\n",
        "- Compreensão dos dados\n",
        "- Preparar os dados (limpeza e tratamento)\n",
        "- Análise de dados (extrair informações relevantes e responder perguntas)\n",
        "- Avaliação dos resultados\n",
        "\n",
        "Nosso objetivo ao concluir esse projeto é responder as seguintes perguntas:\n",
        "\n",
        "1. De onde vem o melhor vinho ?\n",
        "2. O preço do vinho está relacionado com a qualidade ?\n",
        "3. Certas variedades de uvas são de maior qualidade ?\n",
        "4. Qual é o melhor vinho em cada faixa de preço ?\n",
        "5. Que palavras são mais utilizadas para descrever um vinho ?\n",
        "\n",
        "Vamos começar!"
      ],
      "metadata": {
        "id": "seTJm26XhQ3w"
      }
    },
    {
      "cell_type": "code",
      "execution_count": null,
      "metadata": {
        "id": "Mp-CokkagtxM"
      },
      "outputs": [],
      "source": []
    }
  ]
}